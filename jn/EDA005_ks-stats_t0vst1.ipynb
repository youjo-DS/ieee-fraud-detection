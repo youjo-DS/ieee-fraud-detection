{
 "cells": [
  {
   "cell_type": "code",
   "execution_count": 1,
   "metadata": {},
   "outputs": [],
   "source": [
    "import os\n",
    "os.chdir('../py')\n",
    "\n",
    "import pandas as pd\n",
    "import numpy as np\n",
    "import feather\n",
    "\n",
    "from glob import glob\n",
    "\n",
    "import matplotlib.pyplot as plt\n",
    "import seaborn as sns\n",
    "plt.rcParams[\"patch.force_edgecolor\"] = False\n",
    "plt.rcParams['font.family'] = 'Ricty Diminised'\n",
    "sns.set(style=\"whitegrid\", font='Ricty Diminised', palette=\"muted\", color_codes=True, rc={'grid.linestyle': '--'})\n",
    "red = sns.xkcd_rgb[\"light red\"]\n",
    "green = sns.xkcd_rgb[\"medium green\"]\n",
    "blue = sns.xkcd_rgb[\"denim blue\"]\n",
    "\n",
    "import japanize_matplotlib\n",
    "\n",
    "from sklearn.cluster import KMeans\n",
    "from sklearn.model_selection import KFold, StratifiedKFold, GroupKFold\n",
    "from sklearn.preprocessing import LabelEncoder\n",
    "\n",
    "# my modules\n",
    "import EDA\n",
    "import utils"
   ]
  },
  {
   "cell_type": "code",
   "execution_count": 2,
   "metadata": {},
   "outputs": [],
   "source": [
    "train = feather.read_dataframe('../input/feather/train.ftr')"
   ]
  },
  {
   "cell_type": "code",
   "execution_count": 3,
   "metadata": {},
   "outputs": [],
   "source": [
    "categorical_features = list(train.columns[train.dtypes == 'object'])\n",
    "numeric_features = [col for col in train.columns if col not in categorical_features + ['isFraud', 'TransactionID', 'TransactionDT']]"
   ]
  },
  {
   "cell_type": "code",
   "execution_count": 4,
   "metadata": {},
   "outputs": [],
   "source": [
    "from scipy.stats import ks_2samp"
   ]
  },
  {
   "cell_type": "code",
   "execution_count": 7,
   "metadata": {},
   "outputs": [],
   "source": [
    "def ks_train_vs_target(train, numeric_features, target):\n",
    "    t0 = train[train[target] == 0]\n",
    "    t1 = train[train[target] == 1]\n",
    "    \n",
    "    p_value_list = []\n",
    "    for c in numeric_features:\n",
    "        p_value_list.append(ks_2samp(t0[c], t1[c])[1])\n",
    "        \n",
    "    Se = pd.Series(p_value_list, index=numeric_features).sort_values()\n",
    "    \n",
    "    return Se"
   ]
  },
  {
   "cell_type": "code",
   "execution_count": 9,
   "metadata": {},
   "outputs": [],
   "source": [
    "Se = ks_train_vs_target(train, numeric_features, 'isFraud')"
   ]
  },
  {
   "cell_type": "code",
   "execution_count": 14,
   "metadata": {
    "scrolled": true
   },
   "outputs": [
    {
     "data": {
      "text/plain": [
       "V132     0.000000e+00\n",
       "V186     0.000000e+00\n",
       "V187     0.000000e+00\n",
       "V188     0.000000e+00\n",
       "V189     0.000000e+00\n",
       "V190     0.000000e+00\n",
       "V191     0.000000e+00\n",
       "V192     0.000000e+00\n",
       "V193     0.000000e+00\n",
       "V194     0.000000e+00\n",
       "V195     0.000000e+00\n",
       "V196     0.000000e+00\n",
       "V197     0.000000e+00\n",
       "V198     0.000000e+00\n",
       "V199     0.000000e+00\n",
       "V200     0.000000e+00\n",
       "V201     0.000000e+00\n",
       "V202     0.000000e+00\n",
       "V216     0.000000e+00\n",
       "V215     0.000000e+00\n",
       "V214     0.000000e+00\n",
       "V213     0.000000e+00\n",
       "V212     0.000000e+00\n",
       "V211     0.000000e+00\n",
       "V185     0.000000e+00\n",
       "V210     0.000000e+00\n",
       "V208     0.000000e+00\n",
       "V207     0.000000e+00\n",
       "V206     0.000000e+00\n",
       "V205     0.000000e+00\n",
       "             ...     \n",
       "V105     2.701147e-17\n",
       "V321     2.285687e-16\n",
       "V137     2.288261e-16\n",
       "V106     2.407942e-16\n",
       "V299     2.574273e-16\n",
       "V100     2.611838e-16\n",
       "V300     1.903244e-11\n",
       "V135     1.183814e-08\n",
       "V104     1.227969e-08\n",
       "V319     8.587078e-05\n",
       "V297     9.199008e-05\n",
       "id_07    4.564974e-03\n",
       "id_08    4.660649e-03\n",
       "id_21    4.692947e-03\n",
       "id_22    4.758160e-03\n",
       "id_26    4.963760e-03\n",
       "id_25    6.559884e-03\n",
       "id_24    7.460405e-03\n",
       "V119     5.129011e-02\n",
       "V117     5.465055e-02\n",
       "V118     6.531257e-02\n",
       "V41      6.719834e-02\n",
       "V311     4.883630e-01\n",
       "V122     7.685220e-01\n",
       "V121     8.312089e-01\n",
       "V120     8.753161e-01\n",
       "V286     8.930738e-01\n",
       "C3       9.047887e-01\n",
       "V305     1.000000e+00\n",
       "V107     1.000000e+00\n",
       "Length: 400, dtype: float64"
      ]
     },
     "execution_count": 14,
     "metadata": {},
     "output_type": "execute_result"
    }
   ],
   "source": [
    "Se"
   ]
  },
  {
   "cell_type": "code",
   "execution_count": 11,
   "metadata": {
    "scrolled": true
   },
   "outputs": [
    {
     "data": {
      "text/plain": [
       "V107     1.000000e+00\n",
       "V305     1.000000e+00\n",
       "C3       9.047887e-01\n",
       "V286     8.930738e-01\n",
       "V120     8.753161e-01\n",
       "V121     8.312089e-01\n",
       "V122     7.685220e-01\n",
       "V311     4.883630e-01\n",
       "V41      6.719834e-02\n",
       "V118     6.531257e-02\n",
       "V117     5.465055e-02\n",
       "V119     5.129011e-02\n",
       "id_24    7.460405e-03\n",
       "id_25    6.559884e-03\n",
       "id_26    4.963760e-03\n",
       "id_22    4.758160e-03\n",
       "id_21    4.692947e-03\n",
       "id_08    4.660649e-03\n",
       "id_07    4.564974e-03\n",
       "V297     9.199008e-05\n",
       "V319     8.587078e-05\n",
       "V104     1.227969e-08\n",
       "V135     1.183814e-08\n",
       "V300     1.903244e-11\n",
       "V100     2.611838e-16\n",
       "V299     2.574273e-16\n",
       "V106     2.407942e-16\n",
       "V137     2.288261e-16\n",
       "V321     2.285687e-16\n",
       "V105     2.701147e-17\n",
       "             ...     \n",
       "C12      0.000000e+00\n",
       "V16      0.000000e+00\n",
       "C13      0.000000e+00\n",
       "V7       0.000000e+00\n",
       "V8       0.000000e+00\n",
       "V9       0.000000e+00\n",
       "V51      0.000000e+00\n",
       "V42      0.000000e+00\n",
       "V43      0.000000e+00\n",
       "V44      0.000000e+00\n",
       "V45      0.000000e+00\n",
       "V48      0.000000e+00\n",
       "V102     0.000000e+00\n",
       "V50      0.000000e+00\n",
       "V52      0.000000e+00\n",
       "V40      0.000000e+00\n",
       "V55      0.000000e+00\n",
       "V56      0.000000e+00\n",
       "V57      0.000000e+00\n",
       "V58      0.000000e+00\n",
       "V59      0.000000e+00\n",
       "V60      0.000000e+00\n",
       "V62      0.000000e+00\n",
       "id_19    0.000000e+00\n",
       "V39      0.000000e+00\n",
       "V10      0.000000e+00\n",
       "V29      0.000000e+00\n",
       "V11      0.000000e+00\n",
       "V15      0.000000e+00\n",
       "V132     0.000000e+00\n",
       "Length: 400, dtype: float64"
      ]
     },
     "execution_count": 11,
     "metadata": {},
     "output_type": "execute_result"
    }
   ],
   "source": [
    "Se.sort_values(ascending=False)"
   ]
  },
  {
   "cell_type": "code",
   "execution_count": 13,
   "metadata": {},
   "outputs": [
    {
     "data": {
      "text/plain": [
       "V119    0.051290\n",
       "V117    0.054651\n",
       "V118    0.065313\n",
       "V41     0.067198\n",
       "V311    0.488363\n",
       "V122    0.768522\n",
       "V121    0.831209\n",
       "V120    0.875316\n",
       "V286    0.893074\n",
       "C3      0.904789\n",
       "V305    1.000000\n",
       "V107    1.000000\n",
       "dtype: float64"
      ]
     },
     "execution_count": 13,
     "metadata": {},
     "output_type": "execute_result"
    }
   ],
   "source": [
    "Se[Se > .01]"
   ]
  },
  {
   "cell_type": "code",
   "execution_count": null,
   "metadata": {},
   "outputs": [],
   "source": []
  }
 ],
 "metadata": {
  "kernelspec": {
   "display_name": "Python 3",
   "language": "python",
   "name": "python3"
  },
  "language_info": {
   "codemirror_mode": {
    "name": "ipython",
    "version": 3
   },
   "file_extension": ".py",
   "mimetype": "text/x-python",
   "name": "python",
   "nbconvert_exporter": "python",
   "pygments_lexer": "ipython3",
   "version": "3.7.3"
  }
 },
 "nbformat": 4,
 "nbformat_minor": 2
}
