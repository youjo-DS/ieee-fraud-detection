{
 "cells": [
  {
   "cell_type": "code",
   "execution_count": 1,
   "metadata": {},
   "outputs": [],
   "source": [
    "import os\n",
    "os.chdir('../py')\n",
    "\n",
    "import pandas as pd\n",
    "import numpy as np\n",
    "import feather\n",
    "\n",
    "from glob import glob\n",
    "\n",
    "import matplotlib.pyplot as plt\n",
    "import seaborn as sns\n",
    "plt.rcParams[\"patch.force_edgecolor\"] = False\n",
    "plt.rcParams['font.family'] = 'Ricty Diminised'\n",
    "sns.set(style=\"whitegrid\", font='Ricty Diminised', palette=\"muted\", color_codes=True, rc={'grid.linestyle': '--'})\n",
    "red = sns.xkcd_rgb[\"light red\"]\n",
    "green = sns.xkcd_rgb[\"medium green\"]\n",
    "blue = sns.xkcd_rgb[\"denim blue\"]\n",
    "\n",
    "import japanize_matplotlib\n",
    "\n",
    "from sklearn.cluster import KMeans\n",
    "from sklearn.model_selection import KFold, StratifiedKFold, GroupKFold\n",
    "from sklearn.preprocessing import LabelEncoder\n",
    "\n",
    "# my modules\n",
    "import EDA\n",
    "import utils"
   ]
  },
  {
   "cell_type": "code",
   "execution_count": 11,
   "metadata": {},
   "outputs": [],
   "source": [
    "from scipy.stats import ks_2samp"
   ]
  },
  {
   "cell_type": "code",
   "execution_count": 2,
   "metadata": {},
   "outputs": [],
   "source": [
    "train = feather.read_dataframe('../input/feather/train.ftr')"
   ]
  },
  {
   "cell_type": "code",
   "execution_count": 9,
   "metadata": {},
   "outputs": [],
   "source": [
    "test = feather.read_dataframe('../input/feather/test.ftr')"
   ]
  },
  {
   "cell_type": "code",
   "execution_count": 16,
   "metadata": {},
   "outputs": [],
   "source": [
    "numeric_feature = train.columns[train.dtypes != 'object']"
   ]
  },
  {
   "cell_type": "code",
   "execution_count": 17,
   "metadata": {},
   "outputs": [],
   "source": [
    "numeric_feature = [col for col in list(numeric_feature) if col not in ['TransactionID', 'isFraud', 'TransactionDT']]"
   ]
  },
  {
   "cell_type": "code",
   "execution_count": 3,
   "metadata": {},
   "outputs": [],
   "source": [
    "def ks_train_vs_target(train, numeric_features, target):\n",
    "    t0 = train[train[target] == 0]\n",
    "    t1 = train[train[target] == 1]\n",
    "    \n",
    "    p_value_list = []\n",
    "    for c in numeric_features:\n",
    "        p_value_list.append(ks_2samp(t0[c], t1[c])[1])\n",
    "        \n",
    "    Se = pd.Series(p_value_list, index=numeric_features).sort_values()\n",
    "    \n",
    "    return Se"
   ]
  },
  {
   "cell_type": "code",
   "execution_count": 18,
   "metadata": {},
   "outputs": [],
   "source": [
    "def ks_train_vs_test(train, test, numeric_features, target):\n",
    "    p_value_list = []\n",
    "    for c in numeric_features:\n",
    "        p_value_list.append(ks_2samp(train[c], test[c])[1])\n",
    "        \n",
    "    Se = pd.Series(p_value_list, index=numeric_features).sort_values()\n",
    "    \n",
    "    return Se"
   ]
  },
  {
   "cell_type": "code",
   "execution_count": 19,
   "metadata": {},
   "outputs": [],
   "source": [
    "se = ks_train_vs_test(train, test, numeric_feature, 'isFraud')"
   ]
  },
  {
   "cell_type": "code",
   "execution_count": 23,
   "metadata": {},
   "outputs": [
    {
     "data": {
      "text/plain": [
       "Index(['V311', 'V126', 'V95', 'V114', 'id_21', 'V110', 'V112', 'id_25',\n",
       "       'id_22', 'V121', 'id_24', 'id_07', 'id_08', 'V284', 'id_26', 'V286',\n",
       "       'V108', 'V113', 'V111', 'V119', 'V117', 'V107', 'V120', 'V118', 'V122',\n",
       "       'V305'],\n",
       "      dtype='object')"
      ]
     },
     "execution_count": 23,
     "metadata": {},
     "output_type": "execute_result"
    }
   ],
   "source": [
    "se[se > .01].index"
   ]
  },
  {
   "cell_type": "code",
   "execution_count": null,
   "metadata": {},
   "outputs": [],
   "source": []
  }
 ],
 "metadata": {
  "kernelspec": {
   "display_name": "Python 3",
   "language": "python",
   "name": "python3"
  },
  "language_info": {
   "codemirror_mode": {
    "name": "ipython",
    "version": 3
   },
   "file_extension": ".py",
   "mimetype": "text/x-python",
   "name": "python",
   "nbconvert_exporter": "python",
   "pygments_lexer": "ipython3",
   "version": "3.7.3"
  }
 },
 "nbformat": 4,
 "nbformat_minor": 2
}
